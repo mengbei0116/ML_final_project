{
 "cells": [
  {
   "cell_type": "code",
   "execution_count": 1,
   "metadata": {},
   "outputs": [
    {
     "name": "stdout",
     "output_type": "stream",
     "text": [
      "[0.43412499]\n",
      "11\n"
     ]
    },
    {
     "name": "stderr",
     "output_type": "stream",
     "text": [
      "C:\\Users\\User\\AppData\\Local\\Temp\\ipykernel_18488\\2722486019.py:24: FutureWarning: Calling int on a single element Series is deprecated and will raise a TypeError in the future. Use int(ser.iloc[0]) instead\n",
      "  out=[ans, int(ans*input_data[\"numGroups\"])]\n"
     ]
    }
   ],
   "source": [
    "import numpy as np\n",
    "import pandas as pd\n",
    "import joblib\n",
    "from sklearn.ensemble import RandomForestRegressor\n",
    "from sklearn.ensemble import GradientBoostingRegressor\n",
    "\n",
    "data_name=['squadf', 'duof', 'solof', 'squad', 'duo', 'solo', 'other']\n",
    "data_dict={'squadf':0, 'duof':1, 'solof':2, 'squad':3, 'duo':4, 'solo':5, 'other':6}\n",
    "rnd=[]\n",
    "gdb=[]\n",
    "for data_ID in data_name:\n",
    "    rnd.append(joblib.load(\"random_forest_\"+data_ID+\".pkl\"))\n",
    "    gdb.append(joblib.load(\"gradient_boost_\"+data_ID+\".pkl\"))\n",
    "\n",
    "\n",
    "path=\"C:\\\\Users\\\\User\\\\Desktop\\\\one_game_data.csv\"\n",
    "input_data=pd.read_csv(path)\n",
    "input_data=input_data.drop(['Id', 'groupId', 'matchId', 'rankPoints', 'winPoints', 'killPoints', 'maxPlace'] , axis=1)\n",
    "input_data['matchType']=input_data['matchType'].replace({\"normal-squad-fpp\":\"squadf\", \"squad-fpp\":\"squadf\", \"normal-duo-fpp\":\"duof\", \"duo-fpp\":\"duof\", \"normal-solo-fpp\":\"solof\", \"solo-fpp\":\"solof\", \"normal-squad\":\"squad\", \"normal-duo\":\"duo\", \"normal-solo\":\"solo\", \"crashfpp\":\"other\", \"flaretpp\":\"other\", \"flarefpp\":\"other\", \"crashtpp\":\"other\"})\n",
    "data_ID=data_dict[input_data[\"matchType\"][0]]\n",
    "input_data=input_data.drop([\"matchType\"], axis=1)\n",
    "    \n",
    "ans=(rnd[data_ID].predict(input_data)+gdb[data_ID].predict(input_data))/2\n",
    "out=[ans, int(ans*input_data[\"numGroups\"])]\n",
    "print(out[0])\n",
    "print(out[1])\n",
    "        \n",
    "\n"
   ]
  },
  {
   "cell_type": "code",
   "execution_count": 2,
   "metadata": {},
   "outputs": [],
   "source": [
    "import tkinter as tk\n",
    "\n",
    "# 建立轉換函數\n",
    "\n",
    "def predict():\n",
    "    path=input_entry.get()\n",
    "    path=input_entry.get()\n",
    "    input_data=pd.read_csv(path)\n",
    "    input_data=input_data.drop(['Id', 'groupId', 'matchId', 'rankPoints', 'winPoints', 'killPoints', 'maxPlace'] , axis=1)\n",
    "    input_data['matchType']=input_data['matchType'].replace({\"normal-squad-fpp\":\"squadf\", \"squad-fpp\":\"squadf\", \"normal-duo-fpp\":\"duof\", \"duo-fpp\":\"duof\", \"normal-solo-fpp\":\"solof\", \"solo-fpp\":\"solof\", \"normal-squad\":\"squad\", \"normal-duo\":\"duo\", \"normal-solo\":\"solo\", \"crashfpp\":\"other\", \"flaretpp\":\"other\", \"flarefpp\":\"other\", \"crashtpp\":\"other\"})\n",
    "    data_ID=data_dict[input_data[\"matchType\"][0]]\n",
    "    input_data=input_data.drop([\"matchType\"], axis=1)\n",
    "    \n",
    "    ans=(rnd[data_ID].predict(input_data)+gdb[data_ID].predict(input_data))/2\n",
    "    out=[ans, int(ans*input_data[\"numGroups\"])]\n",
    "    output_label.config(text=f\"你的名次百分比預測為: {[out[0][0]]}\\n 你的名次預測為: 第{out[1]}名\")\n",
    "\n",
    "\n",
    "\n",
    "# 建立主視窗\n",
    "root = tk.Tk()\n",
    "root.title(\"PUBG最終排名預測器\")  # 設定視窗標題\n",
    "\n",
    "# 設定初始視窗大小\n",
    "root.geometry(\"500x300\")  # 寬度 500，高度 400\n",
    "\n",
    "# 允許調整視窗大小\n",
    "root.resizable(width=True, height=True)\n",
    "\n",
    "# 建立標題文字\n",
    "title_label = tk.Label(root, text=\"PUBG最終排名預測器\", font=(\"Arial\", 16, \"bold\"))\n",
    "title_label.pack(pady=10)\n",
    "\n",
    "# 建立輸入框和文字描述\n",
    "input_label = tk.Label(root, text=\"請輸入單一場次數據的CSV檔路徑:\")\n",
    "input_label.pack()\n",
    "input_entry = tk.Entry(root, width=40)\n",
    "input_entry.pack(pady=5)\n",
    "\n",
    "# 建立按鈕\n",
    "process_button = tk.Button(root, text=\"開始預測\", command=predict)\n",
    "process_button.pack(pady=10)\n",
    "\n",
    "# 建立輸出框和文字描述\n",
    "output_label = tk.Label(root, text=\"你的名次百分比預測為: NAN\\n 你的名次預測為: NAN\", font=(\"Arial\", 12))\n",
    "output_label.pack(pady=10)\n",
    "\n",
    "# 運行主程式\n",
    "root.mainloop()\n",
    "\n",
    "\n"
   ]
  }
 ],
 "metadata": {
  "kernelspec": {
   "display_name": "Python 3",
   "language": "python",
   "name": "python3"
  },
  "language_info": {
   "codemirror_mode": {
    "name": "ipython",
    "version": 3
   },
   "file_extension": ".py",
   "mimetype": "text/x-python",
   "name": "python",
   "nbconvert_exporter": "python",
   "pygments_lexer": "ipython3",
   "version": "3.12.9"
  }
 },
 "nbformat": 4,
 "nbformat_minor": 2
}
