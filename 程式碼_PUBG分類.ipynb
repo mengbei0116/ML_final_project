{
 "cells": [
  {
   "cell_type": "code",
   "execution_count": 101,
   "metadata": {},
   "outputs": [],
   "source": [
    "import numpy as pyplot\n",
    "import pandas as pd\n",
    "import numpy as np\n",
    "from sklearn.tree import DecisionTreeClassifier\n",
    "from sklearn.model_selection import GridSearchCV\n",
    "from sklearn.ensemble import RandomForestClassifier\n",
    "from sklearn.ensemble import AdaBoostClassifier\n",
    "from sklearn.metrics import f1_score\n",
    "from sklearn.metrics import accuracy_score\n",
    "import joblib"
   ]
  },
  {
   "cell_type": "code",
   "execution_count": 2,
   "metadata": {},
   "outputs": [],
   "source": [
    "raw_data=pd.read_csv('train_V2.csv')\n",
    "raw_data=raw_data.dropna(subset=['winPlacePerc'])"
   ]
  },
  {
   "cell_type": "markdown",
   "metadata": {},
   "source": [
    "去除不重要的feature以及能判斷出類別的feature"
   ]
  },
  {
   "cell_type": "code",
   "execution_count": 3,
   "metadata": {},
   "outputs": [],
   "source": [
    "raw_data=raw_data.drop(['Id', 'groupId', 'matchId', 'rankPoints', 'winPoints', 'killPoints', 'maxPlace', 'numGroups'] , axis=1)"
   ]
  },
  {
   "cell_type": "code",
   "execution_count": 4,
   "metadata": {},
   "outputs": [
    {
     "data": {
      "text/html": [
       "<div>\n",
       "<style scoped>\n",
       "    .dataframe tbody tr th:only-of-type {\n",
       "        vertical-align: middle;\n",
       "    }\n",
       "\n",
       "    .dataframe tbody tr th {\n",
       "        vertical-align: top;\n",
       "    }\n",
       "\n",
       "    .dataframe thead th {\n",
       "        text-align: right;\n",
       "    }\n",
       "</style>\n",
       "<table border=\"1\" class=\"dataframe\">\n",
       "  <thead>\n",
       "    <tr style=\"text-align: right;\">\n",
       "      <th></th>\n",
       "      <th>assists</th>\n",
       "      <th>boosts</th>\n",
       "      <th>damageDealt</th>\n",
       "      <th>DBNOs</th>\n",
       "      <th>headshotKills</th>\n",
       "      <th>heals</th>\n",
       "      <th>killPlace</th>\n",
       "      <th>kills</th>\n",
       "      <th>killStreaks</th>\n",
       "      <th>longestKill</th>\n",
       "      <th>...</th>\n",
       "      <th>matchType</th>\n",
       "      <th>revives</th>\n",
       "      <th>rideDistance</th>\n",
       "      <th>roadKills</th>\n",
       "      <th>swimDistance</th>\n",
       "      <th>teamKills</th>\n",
       "      <th>vehicleDestroys</th>\n",
       "      <th>walkDistance</th>\n",
       "      <th>weaponsAcquired</th>\n",
       "      <th>winPlacePerc</th>\n",
       "    </tr>\n",
       "  </thead>\n",
       "  <tbody>\n",
       "    <tr>\n",
       "      <th>0</th>\n",
       "      <td>0</td>\n",
       "      <td>0</td>\n",
       "      <td>0.00</td>\n",
       "      <td>0</td>\n",
       "      <td>0</td>\n",
       "      <td>0</td>\n",
       "      <td>60</td>\n",
       "      <td>0</td>\n",
       "      <td>0</td>\n",
       "      <td>0.00</td>\n",
       "      <td>...</td>\n",
       "      <td>squad-fpp</td>\n",
       "      <td>0</td>\n",
       "      <td>0.0000</td>\n",
       "      <td>0</td>\n",
       "      <td>0.00</td>\n",
       "      <td>0</td>\n",
       "      <td>0</td>\n",
       "      <td>244.80</td>\n",
       "      <td>1</td>\n",
       "      <td>0.4444</td>\n",
       "    </tr>\n",
       "    <tr>\n",
       "      <th>1</th>\n",
       "      <td>0</td>\n",
       "      <td>0</td>\n",
       "      <td>91.47</td>\n",
       "      <td>0</td>\n",
       "      <td>0</td>\n",
       "      <td>0</td>\n",
       "      <td>57</td>\n",
       "      <td>0</td>\n",
       "      <td>0</td>\n",
       "      <td>0.00</td>\n",
       "      <td>...</td>\n",
       "      <td>squad-fpp</td>\n",
       "      <td>0</td>\n",
       "      <td>0.0045</td>\n",
       "      <td>0</td>\n",
       "      <td>11.04</td>\n",
       "      <td>0</td>\n",
       "      <td>0</td>\n",
       "      <td>1434.00</td>\n",
       "      <td>5</td>\n",
       "      <td>0.6400</td>\n",
       "    </tr>\n",
       "    <tr>\n",
       "      <th>2</th>\n",
       "      <td>1</td>\n",
       "      <td>0</td>\n",
       "      <td>68.00</td>\n",
       "      <td>0</td>\n",
       "      <td>0</td>\n",
       "      <td>0</td>\n",
       "      <td>47</td>\n",
       "      <td>0</td>\n",
       "      <td>0</td>\n",
       "      <td>0.00</td>\n",
       "      <td>...</td>\n",
       "      <td>duo</td>\n",
       "      <td>0</td>\n",
       "      <td>0.0000</td>\n",
       "      <td>0</td>\n",
       "      <td>0.00</td>\n",
       "      <td>0</td>\n",
       "      <td>0</td>\n",
       "      <td>161.80</td>\n",
       "      <td>2</td>\n",
       "      <td>0.7755</td>\n",
       "    </tr>\n",
       "    <tr>\n",
       "      <th>3</th>\n",
       "      <td>0</td>\n",
       "      <td>0</td>\n",
       "      <td>32.90</td>\n",
       "      <td>0</td>\n",
       "      <td>0</td>\n",
       "      <td>0</td>\n",
       "      <td>75</td>\n",
       "      <td>0</td>\n",
       "      <td>0</td>\n",
       "      <td>0.00</td>\n",
       "      <td>...</td>\n",
       "      <td>squad-fpp</td>\n",
       "      <td>0</td>\n",
       "      <td>0.0000</td>\n",
       "      <td>0</td>\n",
       "      <td>0.00</td>\n",
       "      <td>0</td>\n",
       "      <td>0</td>\n",
       "      <td>202.70</td>\n",
       "      <td>3</td>\n",
       "      <td>0.1667</td>\n",
       "    </tr>\n",
       "    <tr>\n",
       "      <th>4</th>\n",
       "      <td>0</td>\n",
       "      <td>0</td>\n",
       "      <td>100.00</td>\n",
       "      <td>0</td>\n",
       "      <td>0</td>\n",
       "      <td>0</td>\n",
       "      <td>45</td>\n",
       "      <td>1</td>\n",
       "      <td>1</td>\n",
       "      <td>58.53</td>\n",
       "      <td>...</td>\n",
       "      <td>solo-fpp</td>\n",
       "      <td>0</td>\n",
       "      <td>0.0000</td>\n",
       "      <td>0</td>\n",
       "      <td>0.00</td>\n",
       "      <td>0</td>\n",
       "      <td>0</td>\n",
       "      <td>49.75</td>\n",
       "      <td>2</td>\n",
       "      <td>0.1875</td>\n",
       "    </tr>\n",
       "  </tbody>\n",
       "</table>\n",
       "<p>5 rows × 21 columns</p>\n",
       "</div>"
      ],
      "text/plain": [
       "   assists  boosts  damageDealt  DBNOs  headshotKills  heals  killPlace  \\\n",
       "0        0       0         0.00      0              0      0         60   \n",
       "1        0       0        91.47      0              0      0         57   \n",
       "2        1       0        68.00      0              0      0         47   \n",
       "3        0       0        32.90      0              0      0         75   \n",
       "4        0       0       100.00      0              0      0         45   \n",
       "\n",
       "   kills  killStreaks  longestKill  ...  matchType revives  rideDistance  \\\n",
       "0      0            0         0.00  ...  squad-fpp       0        0.0000   \n",
       "1      0            0         0.00  ...  squad-fpp       0        0.0045   \n",
       "2      0            0         0.00  ...        duo       0        0.0000   \n",
       "3      0            0         0.00  ...  squad-fpp       0        0.0000   \n",
       "4      1            1        58.53  ...   solo-fpp       0        0.0000   \n",
       "\n",
       "   roadKills  swimDistance  teamKills  vehicleDestroys  walkDistance  \\\n",
       "0          0          0.00          0                0        244.80   \n",
       "1          0         11.04          0                0       1434.00   \n",
       "2          0          0.00          0                0        161.80   \n",
       "3          0          0.00          0                0        202.70   \n",
       "4          0          0.00          0                0         49.75   \n",
       "\n",
       "   weaponsAcquired  winPlacePerc  \n",
       "0                1        0.4444  \n",
       "1                5        0.6400  \n",
       "2                2        0.7755  \n",
       "3                3        0.1667  \n",
       "4                2        0.1875  \n",
       "\n",
       "[5 rows x 21 columns]"
      ]
     },
     "execution_count": 4,
     "metadata": {},
     "output_type": "execute_result"
    }
   ],
   "source": [
    "raw_data.head()"
   ]
  },
  {
   "cell_type": "code",
   "execution_count": 5,
   "metadata": {},
   "outputs": [
    {
     "data": {
      "text/plain": [
       "matchType\n",
       "squad-fpp           1756186\n",
       "duo-fpp              996691\n",
       "squad                626526\n",
       "solo-fpp             536761\n",
       "duo                  313591\n",
       "solo                 181943\n",
       "normal-squad-fpp      17174\n",
       "crashfpp               6287\n",
       "normal-duo-fpp         5489\n",
       "flaretpp               2505\n",
       "normal-solo-fpp        1682\n",
       "flarefpp                718\n",
       "normal-squad            516\n",
       "crashtpp                371\n",
       "normal-solo             326\n",
       "normal-duo              199\n",
       "Name: count, dtype: int64"
      ]
     },
     "execution_count": 5,
     "metadata": {},
     "output_type": "execute_result"
    }
   ],
   "source": [
    "raw_data.matchType.value_counts()"
   ]
  },
  {
   "cell_type": "markdown",
   "metadata": {},
   "source": [
    "將類似的模式合併"
   ]
  },
  {
   "cell_type": "code",
   "execution_count": 6,
   "metadata": {},
   "outputs": [
    {
     "data": {
      "text/plain": [
       "matchType\n",
       "squad    2400402\n",
       "duo      1315970\n",
       "solo      720712\n",
       "other       9881\n",
       "Name: count, dtype: int64"
      ]
     },
     "execution_count": 6,
     "metadata": {},
     "output_type": "execute_result"
    }
   ],
   "source": [
    "raw_data['matchType']=raw_data['matchType'].replace({\"normal-squad-fpp\":\"squad-fpp\", \"normal-duo-fpp\":\"duo-fpp\", \"normal-solo-fpp\":\"solo-fpp\", \"normal-squad\":\"squad\", \"normal-duo\":\"duo\", \"normal-solo\":\"solo\", \"crashfpp\":\"other\", \"flaretpp\":\"other\", \"flarefpp\":\"other\", \"crashtpp\":\"other\"})\n",
    "raw_data['matchType']=raw_data['matchType'].replace({'squad-fpp':'squad', 'duo-fpp':'duo', 'solo-fpp':'solo'})\n",
    "raw_data.matchType.value_counts()"
   ]
  },
  {
   "cell_type": "code",
   "execution_count": 48,
   "metadata": {},
   "outputs": [
    {
     "data": {
      "text/plain": [
       "assists                 22\n",
       "boosts                  28\n",
       "damageDealt         6616.0\n",
       "DBNOs                    0\n",
       "headshotKills           42\n",
       "heals                   63\n",
       "killPlace              100\n",
       "kills                   66\n",
       "killStreaks             18\n",
       "longestKill         1052.0\n",
       "matchDuration         2237\n",
       "matchType             solo\n",
       "revives                  0\n",
       "rideDistance       40710.0\n",
       "roadKills               18\n",
       "swimDistance        1974.0\n",
       "teamKills                5\n",
       "vehicleDestroys          5\n",
       "walkDistance       25780.0\n",
       "weaponsAcquired        153\n",
       "winPlacePerc           1.0\n",
       "dtype: object"
      ]
     },
     "execution_count": 48,
     "metadata": {},
     "output_type": "execute_result"
    }
   ],
   "source": [
    "raw_data[raw_data['matchType']=='solo'].max()"
   ]
  },
  {
   "cell_type": "markdown",
   "metadata": {},
   "source": [
    "資料分割 80%訓練 10%驗證 10%測試"
   ]
  },
  {
   "cell_type": "code",
   "execution_count": 7,
   "metadata": {},
   "outputs": [],
   "source": [
    "from sklearn.model_selection import train_test_split\n",
    "train, vt = train_test_split(raw_data, test_size=0.2, random_state=1)\n",
    "valid, test = train_test_split(vt, test_size=0.5, random_state=1)"
   ]
  },
  {
   "cell_type": "code",
   "execution_count": 8,
   "metadata": {},
   "outputs": [
    {
     "name": "stdout",
     "output_type": "stream",
     "text": [
      "train:3557572\n",
      "valid:444696\n",
      "test:444697\n"
     ]
    }
   ],
   "source": [
    "print(\"train:\" + str(len(train)))\n",
    "print(\"valid:\" + str(len(valid)))\n",
    "print(\"test:\" + str(len(test)))"
   ]
  },
  {
   "cell_type": "code",
   "execution_count": 9,
   "metadata": {},
   "outputs": [
    {
     "data": {
      "text/plain": [
       "matchType\n",
       "squad    1920275\n",
       "duo      1052871\n",
       "solo      576546\n",
       "other       7880\n",
       "Name: count, dtype: int64"
      ]
     },
     "execution_count": 9,
     "metadata": {},
     "output_type": "execute_result"
    }
   ],
   "source": [
    "train.matchType.value_counts()"
   ]
  },
  {
   "cell_type": "markdown",
   "metadata": {},
   "source": [
    "去除離群值"
   ]
  },
  {
   "cell_type": "code",
   "execution_count": 10,
   "metadata": {},
   "outputs": [
    {
     "name": "stdout",
     "output_type": "stream",
     "text": [
      "assists:7.0\n",
      "boosts:13.0\n",
      "damageDealt:2196.4857999989763\n",
      "DBNOs:15.0\n",
      "headshotKills:9.0\n",
      "heals:33.0\n",
      "killPlace:100.0\n",
      "kills:21.0\n",
      "killStreaks:5.0\n",
      "longestKill:686.6214499997441\n",
      "matchDuration:2214.0\n",
      "revives:5.0\n",
      "rideDistance:15302.428999994881\n",
      "roadKills:2.242899999488145\n",
      "swimDistance:780.1\n",
      "teamKills:3.0\n",
      "vehicleDestroys:2.0\n",
      "walkDistance:9098.242899999488\n",
      "weaponsAcquired:39.0\n",
      "winPlacePerc:1.0\n"
     ]
    }
   ],
   "source": [
    "for feature in train.columns:\n",
    "    if feature!=\"matchType\":\n",
    "        print(feature+\":\", end=\"\")\n",
    "        print(train[feature].quantile(0.9999))"
   ]
  },
  {
   "cell_type": "code",
   "execution_count": 11,
   "metadata": {},
   "outputs": [],
   "source": [
    "max_outlier=['assists', 'boosts', 'damageDealt', 'DBNOs', 'headshotKills', 'heals', 'kills' ,'killStreaks', 'longestKill', 'matchDuration', 'revives', 'rideDistance', 'roadKills', 'swimDistance', 'teamKills', 'walkDistance', 'weaponsAcquired']\n",
    "max_outlier_value=[]\n",
    "\n",
    "for feature in max_outlier:\n",
    "    max_outlier_value.append(train[feature].quantile(0.9999))\n",
    "\n",
    "min_duration=train['matchDuration'].quantile(0.0001)\n"
   ]
  },
  {
   "cell_type": "code",
   "execution_count": 12,
   "metadata": {},
   "outputs": [],
   "source": [
    "for feature in range(len(max_outlier)):\n",
    "    train = train[train[max_outlier[feature]] <= max_outlier_value[feature]]\n",
    "    train = train[train['matchDuration'] >= min_duration]"
   ]
  },
  {
   "cell_type": "code",
   "execution_count": 13,
   "metadata": {},
   "outputs": [
    {
     "name": "stdout",
     "output_type": "stream",
     "text": [
      "train:3552998\n"
     ]
    },
    {
     "data": {
      "text/plain": [
       "matchType\n",
       "squad    1917820\n",
       "duo      1052035\n",
       "solo      575448\n",
       "other       7695\n",
       "Name: count, dtype: int64"
      ]
     },
     "execution_count": 13,
     "metadata": {},
     "output_type": "execute_result"
    }
   ],
   "source": [
    "print(\"train:\" + str(len(train)))\n",
    "train.matchType.value_counts()"
   ]
  },
  {
   "cell_type": "markdown",
   "metadata": {},
   "source": [
    "平衡各資料與分出Y"
   ]
  },
  {
   "cell_type": "code",
   "execution_count": 16,
   "metadata": {},
   "outputs": [],
   "source": [
    "train_drop=train.copy()\n",
    "remove_counts = {'squad':917820, 'duo':52035}\n",
    "for category, count in remove_counts.items():\n",
    "    indices = train_drop[train_drop['matchType'] == category].sample(n=count, random_state=1).index\n",
    "    train_drop = train_drop.drop(indices)"
   ]
  },
  {
   "cell_type": "code",
   "execution_count": 17,
   "metadata": {},
   "outputs": [
    {
     "data": {
      "text/plain": [
       "matchType\n",
       "squad    1000000\n",
       "duo      1000000\n",
       "solo      575448\n",
       "other       7695\n",
       "Name: count, dtype: int64"
      ]
     },
     "execution_count": 17,
     "metadata": {},
     "output_type": "execute_result"
    }
   ],
   "source": [
    "train_drop.matchType.value_counts()"
   ]
  },
  {
   "cell_type": "code",
   "execution_count": 18,
   "metadata": {},
   "outputs": [],
   "source": [
    "y_train_drop=train_drop['matchType'].copy()\n",
    "x_train_drop=train_drop.drop('matchType', axis=1)\n",
    "y_train=train['matchType'].copy()\n",
    "x_train=train.drop('matchType', axis=1)\n",
    "y_valid=valid['matchType'].copy()\n",
    "x_valid=valid.drop('matchType', axis=1)\n",
    "y_test=test['matchType'].copy()\n",
    "x_test=test.drop('matchType', axis=1)"
   ]
  },
  {
   "cell_type": "code",
   "execution_count": 22,
   "metadata": {},
   "outputs": [],
   "source": [
    "from imblearn.over_sampling import SMOTE\n",
    "\n",
    "smote = SMOTE(k_neighbors=3, random_state=1)\n",
    "x_train_re, y_train_re = smote.fit_resample(x_train_drop, y_train_drop)"
   ]
  },
  {
   "cell_type": "code",
   "execution_count": 136,
   "metadata": {},
   "outputs": [
    {
     "data": {
      "text/plain": [
       "matchType\n",
       "squad    1000000\n",
       "duo      1000000\n",
       "solo     1000000\n",
       "other    1000000\n",
       "Name: count, dtype: int64"
      ]
     },
     "execution_count": 136,
     "metadata": {},
     "output_type": "execute_result"
    }
   ],
   "source": [
    "y_train_re.value_counts()"
   ]
  },
  {
   "cell_type": "code",
   "execution_count": 31,
   "metadata": {},
   "outputs": [
    {
     "data": {
      "text/html": [
       "<div>\n",
       "<style scoped>\n",
       "    .dataframe tbody tr th:only-of-type {\n",
       "        vertical-align: middle;\n",
       "    }\n",
       "\n",
       "    .dataframe tbody tr th {\n",
       "        vertical-align: top;\n",
       "    }\n",
       "\n",
       "    .dataframe thead th {\n",
       "        text-align: right;\n",
       "    }\n",
       "</style>\n",
       "<table border=\"1\" class=\"dataframe\">\n",
       "  <thead>\n",
       "    <tr style=\"text-align: right;\">\n",
       "      <th></th>\n",
       "      <th>assists</th>\n",
       "      <th>boosts</th>\n",
       "      <th>damageDealt</th>\n",
       "      <th>DBNOs</th>\n",
       "      <th>headshotKills</th>\n",
       "      <th>heals</th>\n",
       "      <th>killPlace</th>\n",
       "      <th>kills</th>\n",
       "      <th>killStreaks</th>\n",
       "      <th>longestKill</th>\n",
       "      <th>matchDuration</th>\n",
       "      <th>revives</th>\n",
       "      <th>rideDistance</th>\n",
       "      <th>roadKills</th>\n",
       "      <th>swimDistance</th>\n",
       "      <th>teamKills</th>\n",
       "      <th>vehicleDestroys</th>\n",
       "      <th>walkDistance</th>\n",
       "      <th>weaponsAcquired</th>\n",
       "      <th>winPlacePerc</th>\n",
       "    </tr>\n",
       "  </thead>\n",
       "  <tbody>\n",
       "    <tr>\n",
       "      <th>135360</th>\n",
       "      <td>0</td>\n",
       "      <td>0</td>\n",
       "      <td>162.70</td>\n",
       "      <td>2</td>\n",
       "      <td>0</td>\n",
       "      <td>0</td>\n",
       "      <td>18</td>\n",
       "      <td>2</td>\n",
       "      <td>2</td>\n",
       "      <td>18.52</td>\n",
       "      <td>1253</td>\n",
       "      <td>0</td>\n",
       "      <td>0.0</td>\n",
       "      <td>0</td>\n",
       "      <td>0.0</td>\n",
       "      <td>0</td>\n",
       "      <td>0</td>\n",
       "      <td>227.100</td>\n",
       "      <td>2</td>\n",
       "      <td>0.3214</td>\n",
       "    </tr>\n",
       "    <tr>\n",
       "      <th>694120</th>\n",
       "      <td>1</td>\n",
       "      <td>0</td>\n",
       "      <td>29.18</td>\n",
       "      <td>0</td>\n",
       "      <td>0</td>\n",
       "      <td>0</td>\n",
       "      <td>60</td>\n",
       "      <td>0</td>\n",
       "      <td>0</td>\n",
       "      <td>0.00</td>\n",
       "      <td>1861</td>\n",
       "      <td>0</td>\n",
       "      <td>0.0</td>\n",
       "      <td>0</td>\n",
       "      <td>0.0</td>\n",
       "      <td>0</td>\n",
       "      <td>0</td>\n",
       "      <td>390.400</td>\n",
       "      <td>5</td>\n",
       "      <td>0.2963</td>\n",
       "    </tr>\n",
       "    <tr>\n",
       "      <th>2892339</th>\n",
       "      <td>2</td>\n",
       "      <td>3</td>\n",
       "      <td>283.40</td>\n",
       "      <td>1</td>\n",
       "      <td>1</td>\n",
       "      <td>2</td>\n",
       "      <td>10</td>\n",
       "      <td>2</td>\n",
       "      <td>1</td>\n",
       "      <td>34.91</td>\n",
       "      <td>1770</td>\n",
       "      <td>1</td>\n",
       "      <td>7596.0</td>\n",
       "      <td>0</td>\n",
       "      <td>0.0</td>\n",
       "      <td>0</td>\n",
       "      <td>0</td>\n",
       "      <td>2132.000</td>\n",
       "      <td>5</td>\n",
       "      <td>0.8889</td>\n",
       "    </tr>\n",
       "    <tr>\n",
       "      <th>2065958</th>\n",
       "      <td>0</td>\n",
       "      <td>0</td>\n",
       "      <td>75.78</td>\n",
       "      <td>0</td>\n",
       "      <td>0</td>\n",
       "      <td>0</td>\n",
       "      <td>84</td>\n",
       "      <td>0</td>\n",
       "      <td>0</td>\n",
       "      <td>0.00</td>\n",
       "      <td>1400</td>\n",
       "      <td>0</td>\n",
       "      <td>0.0</td>\n",
       "      <td>0</td>\n",
       "      <td>0.0</td>\n",
       "      <td>0</td>\n",
       "      <td>0</td>\n",
       "      <td>90.510</td>\n",
       "      <td>2</td>\n",
       "      <td>0.1064</td>\n",
       "    </tr>\n",
       "    <tr>\n",
       "      <th>2253202</th>\n",
       "      <td>0</td>\n",
       "      <td>1</td>\n",
       "      <td>20.40</td>\n",
       "      <td>0</td>\n",
       "      <td>0</td>\n",
       "      <td>2</td>\n",
       "      <td>57</td>\n",
       "      <td>0</td>\n",
       "      <td>0</td>\n",
       "      <td>0.00</td>\n",
       "      <td>1343</td>\n",
       "      <td>0</td>\n",
       "      <td>1068.0</td>\n",
       "      <td>0</td>\n",
       "      <td>0.0</td>\n",
       "      <td>0</td>\n",
       "      <td>0</td>\n",
       "      <td>792.100</td>\n",
       "      <td>2</td>\n",
       "      <td>0.6596</td>\n",
       "    </tr>\n",
       "    <tr>\n",
       "      <th>...</th>\n",
       "      <td>...</td>\n",
       "      <td>...</td>\n",
       "      <td>...</td>\n",
       "      <td>...</td>\n",
       "      <td>...</td>\n",
       "      <td>...</td>\n",
       "      <td>...</td>\n",
       "      <td>...</td>\n",
       "      <td>...</td>\n",
       "      <td>...</td>\n",
       "      <td>...</td>\n",
       "      <td>...</td>\n",
       "      <td>...</td>\n",
       "      <td>...</td>\n",
       "      <td>...</td>\n",
       "      <td>...</td>\n",
       "      <td>...</td>\n",
       "      <td>...</td>\n",
       "      <td>...</td>\n",
       "      <td>...</td>\n",
       "    </tr>\n",
       "    <tr>\n",
       "      <th>1166159</th>\n",
       "      <td>0</td>\n",
       "      <td>2</td>\n",
       "      <td>0.00</td>\n",
       "      <td>0</td>\n",
       "      <td>0</td>\n",
       "      <td>0</td>\n",
       "      <td>60</td>\n",
       "      <td>0</td>\n",
       "      <td>0</td>\n",
       "      <td>0.00</td>\n",
       "      <td>1883</td>\n",
       "      <td>0</td>\n",
       "      <td>0.0</td>\n",
       "      <td>0</td>\n",
       "      <td>0.0</td>\n",
       "      <td>0</td>\n",
       "      <td>0</td>\n",
       "      <td>567.000</td>\n",
       "      <td>5</td>\n",
       "      <td>0.4615</td>\n",
       "    </tr>\n",
       "    <tr>\n",
       "      <th>4267654</th>\n",
       "      <td>0</td>\n",
       "      <td>0</td>\n",
       "      <td>293.90</td>\n",
       "      <td>2</td>\n",
       "      <td>1</td>\n",
       "      <td>0</td>\n",
       "      <td>31</td>\n",
       "      <td>1</td>\n",
       "      <td>1</td>\n",
       "      <td>44.27</td>\n",
       "      <td>1867</td>\n",
       "      <td>0</td>\n",
       "      <td>0.0</td>\n",
       "      <td>0</td>\n",
       "      <td>0.0</td>\n",
       "      <td>0</td>\n",
       "      <td>0</td>\n",
       "      <td>353.800</td>\n",
       "      <td>4</td>\n",
       "      <td>0.3488</td>\n",
       "    </tr>\n",
       "    <tr>\n",
       "      <th>491263</th>\n",
       "      <td>0</td>\n",
       "      <td>0</td>\n",
       "      <td>0.00</td>\n",
       "      <td>0</td>\n",
       "      <td>0</td>\n",
       "      <td>0</td>\n",
       "      <td>72</td>\n",
       "      <td>0</td>\n",
       "      <td>0</td>\n",
       "      <td>0.00</td>\n",
       "      <td>1409</td>\n",
       "      <td>0</td>\n",
       "      <td>0.0</td>\n",
       "      <td>0</td>\n",
       "      <td>0.0</td>\n",
       "      <td>0</td>\n",
       "      <td>0</td>\n",
       "      <td>234.700</td>\n",
       "      <td>2</td>\n",
       "      <td>0.2069</td>\n",
       "    </tr>\n",
       "    <tr>\n",
       "      <th>3937353</th>\n",
       "      <td>1</td>\n",
       "      <td>0</td>\n",
       "      <td>70.44</td>\n",
       "      <td>2</td>\n",
       "      <td>0</td>\n",
       "      <td>0</td>\n",
       "      <td>26</td>\n",
       "      <td>1</td>\n",
       "      <td>1</td>\n",
       "      <td>201.20</td>\n",
       "      <td>1337</td>\n",
       "      <td>0</td>\n",
       "      <td>0.0</td>\n",
       "      <td>0</td>\n",
       "      <td>0.0</td>\n",
       "      <td>0</td>\n",
       "      <td>0</td>\n",
       "      <td>1280.000</td>\n",
       "      <td>4</td>\n",
       "      <td>0.5926</td>\n",
       "    </tr>\n",
       "    <tr>\n",
       "      <th>4322342</th>\n",
       "      <td>0</td>\n",
       "      <td>0</td>\n",
       "      <td>0.00</td>\n",
       "      <td>0</td>\n",
       "      <td>0</td>\n",
       "      <td>0</td>\n",
       "      <td>87</td>\n",
       "      <td>0</td>\n",
       "      <td>0</td>\n",
       "      <td>0.00</td>\n",
       "      <td>1877</td>\n",
       "      <td>0</td>\n",
       "      <td>0.0</td>\n",
       "      <td>0</td>\n",
       "      <td>0.0</td>\n",
       "      <td>0</td>\n",
       "      <td>0</td>\n",
       "      <td>2.564</td>\n",
       "      <td>1</td>\n",
       "      <td>0.0330</td>\n",
       "    </tr>\n",
       "  </tbody>\n",
       "</table>\n",
       "<p>3552998 rows × 20 columns</p>\n",
       "</div>"
      ],
      "text/plain": [
       "         assists  boosts  damageDealt  DBNOs  headshotKills  heals  killPlace  \\\n",
       "135360         0       0       162.70      2              0      0         18   \n",
       "694120         1       0        29.18      0              0      0         60   \n",
       "2892339        2       3       283.40      1              1      2         10   \n",
       "2065958        0       0        75.78      0              0      0         84   \n",
       "2253202        0       1        20.40      0              0      2         57   \n",
       "...          ...     ...          ...    ...            ...    ...        ...   \n",
       "1166159        0       2         0.00      0              0      0         60   \n",
       "4267654        0       0       293.90      2              1      0         31   \n",
       "491263         0       0         0.00      0              0      0         72   \n",
       "3937353        1       0        70.44      2              0      0         26   \n",
       "4322342        0       0         0.00      0              0      0         87   \n",
       "\n",
       "         kills  killStreaks  longestKill  matchDuration  revives  \\\n",
       "135360       2            2        18.52           1253        0   \n",
       "694120       0            0         0.00           1861        0   \n",
       "2892339      2            1        34.91           1770        1   \n",
       "2065958      0            0         0.00           1400        0   \n",
       "2253202      0            0         0.00           1343        0   \n",
       "...        ...          ...          ...            ...      ...   \n",
       "1166159      0            0         0.00           1883        0   \n",
       "4267654      1            1        44.27           1867        0   \n",
       "491263       0            0         0.00           1409        0   \n",
       "3937353      1            1       201.20           1337        0   \n",
       "4322342      0            0         0.00           1877        0   \n",
       "\n",
       "         rideDistance  roadKills  swimDistance  teamKills  vehicleDestroys  \\\n",
       "135360            0.0          0           0.0          0                0   \n",
       "694120            0.0          0           0.0          0                0   \n",
       "2892339        7596.0          0           0.0          0                0   \n",
       "2065958           0.0          0           0.0          0                0   \n",
       "2253202        1068.0          0           0.0          0                0   \n",
       "...               ...        ...           ...        ...              ...   \n",
       "1166159           0.0          0           0.0          0                0   \n",
       "4267654           0.0          0           0.0          0                0   \n",
       "491263            0.0          0           0.0          0                0   \n",
       "3937353           0.0          0           0.0          0                0   \n",
       "4322342           0.0          0           0.0          0                0   \n",
       "\n",
       "         walkDistance  weaponsAcquired  winPlacePerc  \n",
       "135360        227.100                2        0.3214  \n",
       "694120        390.400                5        0.2963  \n",
       "2892339      2132.000                5        0.8889  \n",
       "2065958        90.510                2        0.1064  \n",
       "2253202       792.100                2        0.6596  \n",
       "...               ...              ...           ...  \n",
       "1166159       567.000                5        0.4615  \n",
       "4267654       353.800                4        0.3488  \n",
       "491263        234.700                2        0.2069  \n",
       "3937353      1280.000                4        0.5926  \n",
       "4322342         2.564                1        0.0330  \n",
       "\n",
       "[3552998 rows x 20 columns]"
      ]
     },
     "execution_count": 31,
     "metadata": {},
     "output_type": "execute_result"
    }
   ],
   "source": [
    "x_train"
   ]
  },
  {
   "cell_type": "markdown",
   "metadata": {},
   "source": [
    "決策樹"
   ]
  },
  {
   "cell_type": "code",
   "execution_count": 66,
   "metadata": {},
   "outputs": [],
   "source": [
    "tree=DecisionTreeClassifier(random_state=1)\n",
    "tree_grid=[{\n",
    "    'min_samples_leaf':[2, 3, 5, 7, 9, 10, 15, 20, 25, 30]\n",
    "}]\n",
    "\n",
    "grid=GridSearchCV(tree, param_grid=tree_grid, scoring='accuracy', cv=5)\n"
   ]
  },
  {
   "cell_type": "code",
   "execution_count": 67,
   "metadata": {},
   "outputs": [
    {
     "name": "stdout",
     "output_type": "stream",
     "text": [
      "best_param:\n",
      "{'min_samples_leaf': 15}\n",
      "train_score: 0.874032577558445\n",
      "valid_score: 0.8294700199686977\n"
     ]
    }
   ],
   "source": [
    "grid.fit(x_train, y_train)\n",
    "print(\"best_param:\")\n",
    "print(grid.best_params_)\n",
    "normal_tree=grid.best_estimator_\n",
    "normal_tree.fit(x_train, y_train)\n",
    "\n",
    "print(\"train_score:\", end=\" \")\n",
    "print(normal_tree.score(x_train, y_train))\n",
    "print(\"valid_score:\", end=\" \")\n",
    "print(normal_tree.score(x_valid, y_valid))\n"
   ]
  },
  {
   "cell_type": "code",
   "execution_count": 102,
   "metadata": {},
   "outputs": [
    {
     "data": {
      "text/plain": [
       "['classfier_decision_tree.pkl']"
      ]
     },
     "execution_count": 102,
     "metadata": {},
     "output_type": "execute_result"
    }
   ],
   "source": [
    "joblib.dump(normal_tree, \"classfier_decision_tree.pkl\")"
   ]
  },
  {
   "cell_type": "code",
   "execution_count": 55,
   "metadata": {},
   "outputs": [
    {
     "name": "stdout",
     "output_type": "stream",
     "text": [
      "train_score: 0.8874387207648301\n",
      "valid_score: 0.8239921204598197\n"
     ]
    }
   ],
   "source": [
    "print(\"train_score:\", end=\" \")\n",
    "print(normal_tree.score(x_train, y_train))\n",
    "print(\"valid_score:\", end=\" \")\n",
    "print(normal_tree.score(x_valid, y_valid))"
   ]
  },
  {
   "cell_type": "code",
   "execution_count": 68,
   "metadata": {},
   "outputs": [
    {
     "name": "stdout",
     "output_type": "stream",
     "text": [
      "best_param:\n",
      "{'min_samples_leaf': 9}\n",
      "train_score: 0.89268725\n",
      "valid_score: 0.7546391242556713\n"
     ]
    }
   ],
   "source": [
    "grid.fit(x_train_re, y_train_re)\n",
    "print(\"best_param:\")\n",
    "print(grid.best_params_)\n",
    "re_tree=grid.best_estimator_\n",
    "re_tree.fit(x_train_re, y_train_re)\n",
    "\n",
    "print(\"train_score:\", end=\" \")\n",
    "print(re_tree.score(x_train_re, y_train_re))\n",
    "print(\"valid_score:\", end=\" \")\n",
    "print(re_tree.score(x_valid, y_valid))"
   ]
  },
  {
   "cell_type": "code",
   "execution_count": 56,
   "metadata": {},
   "outputs": [
    {
     "name": "stdout",
     "output_type": "stream",
     "text": [
      "train_score: 0.88822375\n",
      "valid_score: 0.7541601453577276\n"
     ]
    }
   ],
   "source": [
    "print(\"train_score:\", end=\" \")\n",
    "print(re_tree.score(x_train_re, y_train_re))\n",
    "print(\"valid_score:\", end=\" \")\n",
    "print(re_tree.score(x_valid, y_valid))"
   ]
  },
  {
   "cell_type": "code",
   "execution_count": 33,
   "metadata": {},
   "outputs": [
    {
     "name": "stdout",
     "output_type": "stream",
     "text": [
      "Confusion Matrix:\n",
      "        squad    duo   solo  other\n",
      "squad  211393  24263   4558     40\n",
      "duo     23749  97561   9971     12\n",
      "solo     4935  13063  54109      2\n",
      "other     308    102      8    622\n"
     ]
    }
   ],
   "source": [
    "from sklearn.metrics import confusion_matrix\n",
    "\n",
    "y_pred = tree.predict(x_valid)\n",
    "\n",
    "label=['squad', 'duo', 'solo', 'other']\n",
    "cm = confusion_matrix(y_valid, y_pred, labels=label)\n",
    "\n",
    "# 3. 打印混淆矩陣\n",
    "print(\"Confusion Matrix:\")\n",
    "print(pd.DataFrame(cm, index=label, columns=label))"
   ]
  },
  {
   "cell_type": "code",
   "execution_count": 42,
   "metadata": {},
   "outputs": [
    {
     "data": {
      "text/plain": [
       "assists                8.0\n",
       "boosts                14.0\n",
       "damageDealt         2348.0\n",
       "DBNOs                 22.0\n",
       "headshotKills         11.0\n",
       "heals                 41.0\n",
       "killPlace            100.0\n",
       "kills                 27.0\n",
       "killStreaks            6.0\n",
       "longestKill          693.1\n",
       "matchDuration       2200.0\n",
       "revives                6.0\n",
       "rideDistance       20510.0\n",
       "roadKills              3.0\n",
       "swimDistance         555.0\n",
       "teamKills              3.0\n",
       "vehicleDestroys        1.0\n",
       "walkDistance        9315.0\n",
       "weaponsAcquired       52.0\n",
       "winPlacePerc           1.0\n",
       "matchType             solo\n",
       "dtype: object"
      ]
     },
     "execution_count": 42,
     "metadata": {},
     "output_type": "execute_result"
    }
   ],
   "source": [
    "valid_pred = pd.concat([x_valid, pd.DataFrame(y_pred, columns=['matchType'])], axis=1)\n",
    "valid_pred[valid_pred['matchType']=='solo'].max()"
   ]
  },
  {
   "cell_type": "markdown",
   "metadata": {},
   "source": [
    "隨機森林"
   ]
  },
  {
   "cell_type": "markdown",
   "metadata": {},
   "source": [
    "樹數量"
   ]
  },
  {
   "cell_type": "code",
   "execution_count": 53,
   "metadata": {},
   "outputs": [],
   "source": [
    "from sklearn.ensemble import RandomForestClassifier\n",
    "\n",
    "rand1=RandomForestClassifier(n_estimators=100, max_samples=100000, min_samples_leaf=7, random_state=1)\n",
    "rand2=RandomForestClassifier(n_estimators=500, max_samples=100000, min_samples_leaf=7, random_state=1)\n",
    "rand3=RandomForestClassifier(n_estimators=1000, max_samples=100000, min_samples_leaf=7, random_state=1)\n",
    "rand4=RandomForestClassifier(n_estimators=2000, max_samples=100000, min_samples_leaf=7, random_state=1)\n",
    "re_rand1=RandomForestClassifier(n_estimators=100, max_samples=100000, min_samples_leaf=7, random_state=1)\n",
    "re_rand2=RandomForestClassifier(n_estimators=500, max_samples=100000, min_samples_leaf=7, random_state=1)\n",
    "re_rand3=RandomForestClassifier(n_estimators=1000, max_samples=100000, min_samples_leaf=7, random_state=1)\n",
    "re_rand4=RandomForestClassifier(n_estimators=2000, max_samples=100000, min_samples_leaf=7, random_state=1)"
   ]
  },
  {
   "cell_type": "code",
   "execution_count": 54,
   "metadata": {},
   "outputs": [
    {
     "name": "stdout",
     "output_type": "stream",
     "text": [
      "樹數量測試\n",
      "------normal------\n",
      "n=100\n",
      "0.6958610728179414\n",
      "0.6914498893626208\n",
      "n=500\n",
      "0.6982359686101709\n",
      "0.6936041700397575\n",
      "n=1000\n",
      "0.6985461292125692\n",
      "0.6938177991256949\n",
      "n=2000\n",
      "0.6990316346927299\n",
      "0.6941191285732276\n",
      "------re------\n",
      "n=100\n",
      "0.74507775\n",
      "0.6419891341500711\n",
      "n=500\n",
      "0.74707475\n",
      "0.6443188155503985\n",
      "n=1000\n",
      "0.74747225\n",
      "0.64461339881627\n",
      "n=2000\n",
      "0.74746975\n",
      "0.6444290031841977\n"
     ]
    }
   ],
   "source": [
    "print(\"樹數量測試\")\n",
    "print(\"------normal------\")\n",
    "\n",
    "rand1.fit(x_train, y_train)\n",
    "print(\"n=100\")\n",
    "print(rand1.score(x_train, y_train))\n",
    "print(rand1.score(x_valid, y_valid), end=\"\\n\")\n",
    "\n",
    "rand2.fit(x_train, y_train)\n",
    "print(\"n=500\")\n",
    "print(rand2.score(x_train, y_train))\n",
    "print(rand2.score(x_valid, y_valid), end=\"\\n\")\n",
    "\n",
    "rand3.fit(x_train, y_train)\n",
    "print(\"n=1000\")\n",
    "print(rand3.score(x_train, y_train))\n",
    "print(rand3.score(x_valid, y_valid), end=\"\\n\")\n",
    "\n",
    "rand4.fit(x_train, y_train)\n",
    "print(\"n=2000\")\n",
    "print(rand4.score(x_train, y_train))\n",
    "print(rand4.score(x_valid, y_valid), end=\"\\n\")\n",
    "\n",
    "print(\"------re------\")\n",
    "\n",
    "re_rand1.fit(x_train_re, y_train_re)\n",
    "print(\"n=100\")\n",
    "print(re_rand1.score(x_train_re, y_train_re))\n",
    "print(re_rand1.score(x_valid, y_valid), end=\"\\n\")\n",
    "\n",
    "re_rand2.fit(x_train_re, y_train_re)\n",
    "print(\"n=500\")\n",
    "print(re_rand2.score(x_train_re, y_train_re))\n",
    "print(re_rand2.score(x_valid, y_valid), end=\"\\n\")\n",
    "\n",
    "re_rand3.fit(x_train_re, y_train_re)\n",
    "print(\"n=1000\")\n",
    "print(re_rand3.score(x_train_re, y_train_re))\n",
    "print(re_rand3.score(x_valid, y_valid), end=\"\\n\")\n",
    "\n",
    "re_rand4.fit(x_train_re, y_train_re)\n",
    "print(\"n=2000\")\n",
    "print(re_rand4.score(x_train_re, y_train_re))\n",
    "print(re_rand4.score(x_valid, y_valid), end=\"\\n\")"
   ]
  },
  {
   "cell_type": "markdown",
   "metadata": {},
   "source": [
    "樣本數"
   ]
  },
  {
   "cell_type": "code",
   "execution_count": 63,
   "metadata": {},
   "outputs": [],
   "source": [
    "sample_rand1=RandomForestClassifier(n_estimators=500, max_samples=50000, min_samples_leaf=7, random_state=1)\n",
    "sample_rand2=RandomForestClassifier(n_estimators=500, max_samples=100000, min_samples_leaf=7, random_state=1)\n",
    "sample_rand3=RandomForestClassifier(n_estimators=500, max_samples=500000, min_samples_leaf=7, random_state=1)\n",
    "sample_rand4=RandomForestClassifier(n_estimators=500, max_samples=1000000, min_samples_leaf=7, random_state=1)\n",
    "sample_re_rand1=RandomForestClassifier(n_estimators=500, max_samples=50000, min_samples_leaf=7, random_state=1)\n",
    "sample_re_rand2=RandomForestClassifier(n_estimators=500, max_samples=100000, min_samples_leaf=7, random_state=1)\n",
    "sample_re_rand3=RandomForestClassifier(n_estimators=500, max_samples=500000, min_samples_leaf=7, random_state=1)\n",
    "sample_re_rand4=RandomForestClassifier(n_estimators=500, max_samples=1000000, min_samples_leaf=7, random_state=1)"
   ]
  },
  {
   "cell_type": "code",
   "execution_count": 64,
   "metadata": {},
   "outputs": [
    {
     "name": "stdout",
     "output_type": "stream",
     "text": [
      "樣本測試\n",
      "------normal------\n",
      "n=50000\n",
      "0.6858253227274544\n",
      "0.6839076582654218\n",
      "n=100000\n",
      "0.6982359686101709\n",
      "0.6936041700397575\n",
      "n=500000\n",
      "0.7365979378541727\n",
      "0.715376346987605\n",
      "n=1000000\n",
      "0.760730234016456\n",
      "0.7224845737312681\n",
      "------re------\n",
      "n=50000\n",
      "0.733323\n",
      "0.6360390019249105\n",
      "n=100000\n",
      "0.74707475\n",
      "0.6443188155503985\n",
      "n=500000\n",
      "0.78680425\n",
      "0.6659043481389534\n",
      "n=1000000\n",
      "0.80797625\n",
      "0.6748407901127962\n"
     ]
    }
   ],
   "source": [
    "print(\"樣本測試\")\n",
    "print(\"------normal------\")\n",
    "\n",
    "sample_rand1.fit(x_train, y_train)\n",
    "print(\"n=50000\")\n",
    "print(sample_rand1.score(x_train, y_train))\n",
    "print(sample_rand1.score(x_valid, y_valid), end=\"\\n\")\n",
    "\n",
    "sample_rand2.fit(x_train, y_train)\n",
    "print(\"n=100000\")\n",
    "print(sample_rand2.score(x_train, y_train))\n",
    "print(sample_rand2.score(x_valid, y_valid), end=\"\\n\")\n",
    "\n",
    "sample_rand3.fit(x_train, y_train)\n",
    "print(\"n=500000\")\n",
    "print(sample_rand3.score(x_train, y_train))\n",
    "print(sample_rand3.score(x_valid, y_valid), end=\"\\n\")\n",
    "\n",
    "sample_rand4.fit(x_train, y_train)\n",
    "print(\"n=1000000\")\n",
    "print(sample_rand4.score(x_train, y_train))\n",
    "print(sample_rand4.score(x_valid, y_valid), end=\"\\n\")\n",
    "\n",
    "print(\"------re------\")\n",
    "\n",
    "sample_re_rand1.fit(x_train_re, y_train_re)\n",
    "print(\"n=50000\")\n",
    "print(sample_re_rand1.score(x_train_re, y_train_re))\n",
    "print(sample_re_rand1.score(x_valid, y_valid), end=\"\\n\")\n",
    "\n",
    "sample_re_rand2.fit(x_train_re, y_train_re)\n",
    "print(\"n=100000\")\n",
    "print(sample_re_rand2.score(x_train_re, y_train_re))\n",
    "print(sample_re_rand2.score(x_valid, y_valid), end=\"\\n\")\n",
    "\n",
    "sample_re_rand3.fit(x_train_re, y_train_re)\n",
    "print(\"n=500000\")\n",
    "print(sample_re_rand3.score(x_train_re, y_train_re))\n",
    "print(sample_re_rand3.score(x_valid, y_valid), end=\"\\n\")\n",
    "\n",
    "sample_re_rand4.fit(x_train_re, y_train_re)\n",
    "print(\"n=1000000\")\n",
    "print(sample_re_rand4.score(x_train_re, y_train_re))\n",
    "print(sample_re_rand4.score(x_valid, y_valid), end=\"\\n\")"
   ]
  },
  {
   "cell_type": "code",
   "execution_count": 69,
   "metadata": {},
   "outputs": [],
   "source": [
    "sample_rand5=RandomForestClassifier(n_estimators=500, max_samples=2000000, min_samples_leaf=7, random_state=1)"
   ]
  },
  {
   "cell_type": "code",
   "execution_count": 70,
   "metadata": {},
   "outputs": [
    {
     "name": "stdout",
     "output_type": "stream",
     "text": [
      "n=2000000\n",
      "0.7926033169734404\n",
      "0.7293094608451617\n"
     ]
    }
   ],
   "source": [
    "sample_rand5.fit(x_train, y_train)\n",
    "print(\"n=2000000\")\n",
    "print(sample_rand5.score(x_train, y_train))\n",
    "print(sample_rand5.score(x_valid, y_valid), end=\"\\n\")"
   ]
  },
  {
   "cell_type": "markdown",
   "metadata": {},
   "source": [
    "sample leaf"
   ]
  },
  {
   "cell_type": "code",
   "execution_count": 83,
   "metadata": {},
   "outputs": [],
   "source": [
    "leaf_rand1=RandomForestClassifier(n_estimators=500, max_samples=1000000, min_samples_leaf=5, random_state=1)\n",
    "leaf_rand2=RandomForestClassifier(n_estimators=500, max_samples=1000000, min_samples_leaf=7, random_state=1)\n",
    "leaf_rand3=RandomForestClassifier(n_estimators=500, max_samples=1000000, min_samples_leaf=10, random_state=1)\n",
    "leaf_rand4=RandomForestClassifier(n_estimators=500, max_samples=1000000, min_samples_leaf=15, random_state=1)\n",
    "leaf_rand5=RandomForestClassifier(n_estimators=500, max_samples=1000000, min_samples_leaf=20, random_state=1)"
   ]
  },
  {
   "cell_type": "code",
   "execution_count": 84,
   "metadata": {},
   "outputs": [
    {
     "name": "stdout",
     "output_type": "stream",
     "text": [
      "最小葉節點內sample數\n",
      "n=5\n",
      "0.7775453293246999\n",
      "0.7264243438213971\n",
      "n=7\n",
      "0.760730234016456\n",
      "0.7224845737312681\n",
      "n=10\n",
      "0.7457721619882702\n",
      "0.7183716516451688\n",
      "n=15\n",
      "0.7318098687362053\n",
      "0.7124642452371958\n",
      "n=20\n",
      "0.723215436653778\n",
      "0.7082883587889255\n"
     ]
    }
   ],
   "source": [
    "print(\"最小葉節點內sample數\")\n",
    "leaf_rand1.fit(x_train, y_train)\n",
    "print(\"n=5\")\n",
    "print(leaf_rand1.score(x_train, y_train))\n",
    "print(leaf_rand1.score(x_valid, y_valid), end=\"\\n\")\n",
    "\n",
    "leaf_rand2.fit(x_train, y_train)\n",
    "print(\"n=7\")\n",
    "print(leaf_rand2.score(x_train, y_train))\n",
    "print(leaf_rand2.score(x_valid, y_valid), end=\"\\n\")\n",
    "\n",
    "leaf_rand3.fit(x_train, y_train)\n",
    "print(\"n=10\")\n",
    "print(leaf_rand3.score(x_train, y_train))\n",
    "print(leaf_rand3.score(x_valid, y_valid), end=\"\\n\")\n",
    "\n",
    "leaf_rand4.fit(x_train, y_train)\n",
    "print(\"n=15\")\n",
    "print(leaf_rand4.score(x_train, y_train))\n",
    "print(leaf_rand4.score(x_valid, y_valid), end=\"\\n\")\n",
    "\n",
    "leaf_rand5.fit(x_train, y_train)\n",
    "print(\"n=20\")\n",
    "print(leaf_rand5.score(x_train, y_train))\n",
    "print(leaf_rand5.score(x_valid, y_valid), end=\"\\n\")"
   ]
  },
  {
   "cell_type": "markdown",
   "metadata": {},
   "source": [
    "阿搭布斯特"
   ]
  },
  {
   "cell_type": "code",
   "execution_count": 85,
   "metadata": {},
   "outputs": [],
   "source": [
    "ada_tree=DecisionTreeClassifier(max_depth=10, random_state=1)\n",
    "ada=AdaBoostClassifier(ada_tree, n_estimators=1000, random_state=1)\n"
   ]
  },
  {
   "cell_type": "code",
   "execution_count": 86,
   "metadata": {},
   "outputs": [
    {
     "name": "stderr",
     "output_type": "stream",
     "text": [
      "C:\\Users\\User\\AppData\\Local\\Packages\\PythonSoftwareFoundation.Python.3.12_qbz5n2kfra8p0\\LocalCache\\local-packages\\Python312\\site-packages\\sklearn\\ensemble\\_weight_boosting.py:527: FutureWarning: The SAMME.R algorithm (the default) is deprecated and will be removed in 1.6. Use the SAMME algorithm to circumvent this warning.\n",
      "  warnings.warn(\n"
     ]
    },
    {
     "name": "stdout",
     "output_type": "stream",
     "text": [
      "adaboost\n",
      "0.6745660988269625\n",
      "0.6680878622699552\n"
     ]
    }
   ],
   "source": [
    "ada.fit(x_train, y_train)\n",
    "print(\"adaboost\")\n",
    "print(ada.score(x_train, y_train))\n",
    "print(ada.score(x_valid, y_valid), end=\"\\n\")"
   ]
  },
  {
   "cell_type": "markdown",
   "metadata": {},
   "source": [
    "score"
   ]
  },
  {
   "cell_type": "code",
   "execution_count": 98,
   "metadata": {},
   "outputs": [],
   "source": [
    "def caculate_score(model, x, y):\n",
    "    y_pred=model.predict(x)\n",
    "    accuracy = accuracy_score(y, y_pred) \n",
    "    f1_weighted = f1_score(y, y_pred, average='weighted')\n",
    "    print(\"accuracy:\",end=\"\")\n",
    "    print(accuracy)\n",
    "    print(\"f1 score:\", end=\"\")\n",
    "    print(f1_weighted, end=\"\\n\")"
   ]
  },
  {
   "cell_type": "code",
   "execution_count": 99,
   "metadata": {},
   "outputs": [
    {
     "name": "stdout",
     "output_type": "stream",
     "text": [
      "決策樹\n",
      "accuracy:0.8294700199686977\n",
      "f1 score:0.8286023038451655\n",
      "隨機森林\n",
      "accuracy:0.7264243438213971\n",
      "f1 score:0.7097229499680151\n",
      "adaboost\n",
      "accuracy:0.6680878622699552\n",
      "f1 score:0.6355624443911883\n"
     ]
    }
   ],
   "source": [
    "print(\"決策樹\")\n",
    "caculate_score(normal_tree, x_valid, y_valid)\n",
    "print(\"隨機森林\")\n",
    "caculate_score(leaf_rand1, x_valid, y_valid)\n",
    "print(\"adaboost\")\n",
    "caculate_score(ada, x_valid, y_valid)"
   ]
  },
  {
   "cell_type": "markdown",
   "metadata": {},
   "source": [
    "solo補正"
   ]
  },
  {
   "cell_type": "code",
   "execution_count": 93,
   "metadata": {},
   "outputs": [
    {
     "data": {
      "text/plain": [
       "matchType\n",
       "squad    1917820\n",
       "duo      1052035\n",
       "other       7695\n",
       "Name: count, dtype: int64"
      ]
     },
     "execution_count": 93,
     "metadata": {},
     "output_type": "execute_result"
    }
   ],
   "source": [
    "train_multi=train[train['matchType'] != 'solo']\n",
    "valid_multi=valid[valid['matchType'] != 'solo']\n",
    "y_train_multi=train_multi['matchType'].copy()\n",
    "x_train_multi=train_multi.drop('matchType', axis=1)\n",
    "y_valid_multi=valid_multi['matchType'].copy()\n",
    "x_valid_multi=valid_multi.drop('matchType', axis=1)\n",
    "\n",
    "train_multi.matchType.value_counts()\n"
   ]
  },
  {
   "cell_type": "code",
   "execution_count": 90,
   "metadata": {},
   "outputs": [],
   "source": [
    "tree_multi=DecisionTreeClassifier(random_state=1)\n",
    "tree_grid_multi=[{\n",
    "    'min_samples_leaf':[2, 3, 5, 7, 9, 10, 13, 15, 17, 20, 25, 30]\n",
    "}]\n",
    "\n",
    "grid_multi=GridSearchCV(tree_multi, param_grid=tree_grid_multi, scoring='accuracy', cv=5)"
   ]
  },
  {
   "cell_type": "code",
   "execution_count": 92,
   "metadata": {},
   "outputs": [
    {
     "name": "stdout",
     "output_type": "stream",
     "text": [
      "best_param:\n",
      "{'min_samples_leaf': 25}\n",
      "train_score: 0.9349827878625044\n"
     ]
    }
   ],
   "source": [
    "grid_multi.fit(x_train_multi, y_train_multi)\n",
    "print(\"best_param:\")\n",
    "print(grid_multi.best_params_)\n",
    "multi_tree=grid.best_estimator_\n",
    "multi_tree.fit(x_train_multi, y_train_multi)\n",
    "\n",
    "print(\"train_score:\", end=\" \")\n",
    "print(multi_tree.score(x_train_multi, y_train_multi))"
   ]
  },
  {
   "cell_type": "code",
   "execution_count": 94,
   "metadata": {},
   "outputs": [
    {
     "name": "stdout",
     "output_type": "stream",
     "text": [
      "valid_score: 0.8910616849219108\n"
     ]
    }
   ],
   "source": [
    "print(\"valid_score:\", end=\" \")\n",
    "print(multi_tree.score(x_valid_multi, y_valid_multi))"
   ]
  },
  {
   "cell_type": "markdown",
   "metadata": {},
   "source": [
    "最終模型"
   ]
  },
  {
   "cell_type": "code",
   "execution_count": 139,
   "metadata": {},
   "outputs": [],
   "source": [
    "output=normal_tree.predict(x_test)\n"
   ]
  },
  {
   "cell_type": "code",
   "execution_count": 131,
   "metadata": {},
   "outputs": [
    {
     "data": {
      "text/html": [
       "<div>\n",
       "<style scoped>\n",
       "    .dataframe tbody tr th:only-of-type {\n",
       "        vertical-align: middle;\n",
       "    }\n",
       "\n",
       "    .dataframe tbody tr th {\n",
       "        vertical-align: top;\n",
       "    }\n",
       "\n",
       "    .dataframe thead th {\n",
       "        text-align: right;\n",
       "    }\n",
       "</style>\n",
       "<table border=\"1\" class=\"dataframe\">\n",
       "  <thead>\n",
       "    <tr style=\"text-align: right;\">\n",
       "      <th></th>\n",
       "      <th>assists</th>\n",
       "      <th>boosts</th>\n",
       "      <th>damageDealt</th>\n",
       "      <th>DBNOs</th>\n",
       "      <th>headshotKills</th>\n",
       "      <th>heals</th>\n",
       "      <th>killPlace</th>\n",
       "      <th>kills</th>\n",
       "      <th>killStreaks</th>\n",
       "      <th>longestKill</th>\n",
       "      <th>...</th>\n",
       "      <th>revives</th>\n",
       "      <th>rideDistance</th>\n",
       "      <th>roadKills</th>\n",
       "      <th>swimDistance</th>\n",
       "      <th>teamKills</th>\n",
       "      <th>vehicleDestroys</th>\n",
       "      <th>walkDistance</th>\n",
       "      <th>weaponsAcquired</th>\n",
       "      <th>winPlacePerc</th>\n",
       "      <th>predicted</th>\n",
       "    </tr>\n",
       "  </thead>\n",
       "  <tbody>\n",
       "    <tr>\n",
       "      <th>121605</th>\n",
       "      <td>0</td>\n",
       "      <td>0</td>\n",
       "      <td>0.00</td>\n",
       "      <td>0</td>\n",
       "      <td>0</td>\n",
       "      <td>0</td>\n",
       "      <td>95</td>\n",
       "      <td>0</td>\n",
       "      <td>0</td>\n",
       "      <td>0.000</td>\n",
       "      <td>...</td>\n",
       "      <td>0</td>\n",
       "      <td>0.0</td>\n",
       "      <td>0</td>\n",
       "      <td>0.0</td>\n",
       "      <td>0</td>\n",
       "      <td>0</td>\n",
       "      <td>36.96</td>\n",
       "      <td>1</td>\n",
       "      <td>0.0208</td>\n",
       "      <td>duo</td>\n",
       "    </tr>\n",
       "    <tr>\n",
       "      <th>2588043</th>\n",
       "      <td>0</td>\n",
       "      <td>0</td>\n",
       "      <td>100.00</td>\n",
       "      <td>1</td>\n",
       "      <td>0</td>\n",
       "      <td>0</td>\n",
       "      <td>44</td>\n",
       "      <td>1</td>\n",
       "      <td>1</td>\n",
       "      <td>5.282</td>\n",
       "      <td>...</td>\n",
       "      <td>0</td>\n",
       "      <td>0.0</td>\n",
       "      <td>0</td>\n",
       "      <td>0.0</td>\n",
       "      <td>0</td>\n",
       "      <td>0</td>\n",
       "      <td>180.40</td>\n",
       "      <td>2</td>\n",
       "      <td>0.3125</td>\n",
       "      <td>duo</td>\n",
       "    </tr>\n",
       "    <tr>\n",
       "      <th>3410158</th>\n",
       "      <td>3</td>\n",
       "      <td>0</td>\n",
       "      <td>123.40</td>\n",
       "      <td>0</td>\n",
       "      <td>0</td>\n",
       "      <td>0</td>\n",
       "      <td>78</td>\n",
       "      <td>0</td>\n",
       "      <td>0</td>\n",
       "      <td>0.000</td>\n",
       "      <td>...</td>\n",
       "      <td>0</td>\n",
       "      <td>0.0</td>\n",
       "      <td>0</td>\n",
       "      <td>0.0</td>\n",
       "      <td>0</td>\n",
       "      <td>0</td>\n",
       "      <td>158.40</td>\n",
       "      <td>1</td>\n",
       "      <td>0.1481</td>\n",
       "      <td>squad</td>\n",
       "    </tr>\n",
       "    <tr>\n",
       "      <th>2072022</th>\n",
       "      <td>1</td>\n",
       "      <td>0</td>\n",
       "      <td>0.00</td>\n",
       "      <td>0</td>\n",
       "      <td>0</td>\n",
       "      <td>0</td>\n",
       "      <td>61</td>\n",
       "      <td>0</td>\n",
       "      <td>0</td>\n",
       "      <td>0.000</td>\n",
       "      <td>...</td>\n",
       "      <td>0</td>\n",
       "      <td>0.0</td>\n",
       "      <td>0</td>\n",
       "      <td>0.0</td>\n",
       "      <td>0</td>\n",
       "      <td>0</td>\n",
       "      <td>646.30</td>\n",
       "      <td>3</td>\n",
       "      <td>0.3846</td>\n",
       "      <td>squad</td>\n",
       "    </tr>\n",
       "    <tr>\n",
       "      <th>2956261</th>\n",
       "      <td>0</td>\n",
       "      <td>0</td>\n",
       "      <td>40.64</td>\n",
       "      <td>0</td>\n",
       "      <td>0</td>\n",
       "      <td>0</td>\n",
       "      <td>67</td>\n",
       "      <td>0</td>\n",
       "      <td>0</td>\n",
       "      <td>0.000</td>\n",
       "      <td>...</td>\n",
       "      <td>1</td>\n",
       "      <td>0.0</td>\n",
       "      <td>0</td>\n",
       "      <td>0.0</td>\n",
       "      <td>0</td>\n",
       "      <td>0</td>\n",
       "      <td>146.50</td>\n",
       "      <td>1</td>\n",
       "      <td>0.2444</td>\n",
       "      <td>duo</td>\n",
       "    </tr>\n",
       "    <tr>\n",
       "      <th>...</th>\n",
       "      <td>...</td>\n",
       "      <td>...</td>\n",
       "      <td>...</td>\n",
       "      <td>...</td>\n",
       "      <td>...</td>\n",
       "      <td>...</td>\n",
       "      <td>...</td>\n",
       "      <td>...</td>\n",
       "      <td>...</td>\n",
       "      <td>...</td>\n",
       "      <td>...</td>\n",
       "      <td>...</td>\n",
       "      <td>...</td>\n",
       "      <td>...</td>\n",
       "      <td>...</td>\n",
       "      <td>...</td>\n",
       "      <td>...</td>\n",
       "      <td>...</td>\n",
       "      <td>...</td>\n",
       "      <td>...</td>\n",
       "      <td>...</td>\n",
       "    </tr>\n",
       "    <tr>\n",
       "      <th>427997</th>\n",
       "      <td>1</td>\n",
       "      <td>4</td>\n",
       "      <td>420.50</td>\n",
       "      <td>2</td>\n",
       "      <td>0</td>\n",
       "      <td>2</td>\n",
       "      <td>14</td>\n",
       "      <td>2</td>\n",
       "      <td>1</td>\n",
       "      <td>218.300</td>\n",
       "      <td>...</td>\n",
       "      <td>1</td>\n",
       "      <td>1981.0</td>\n",
       "      <td>0</td>\n",
       "      <td>0.0</td>\n",
       "      <td>0</td>\n",
       "      <td>0</td>\n",
       "      <td>2729.00</td>\n",
       "      <td>8</td>\n",
       "      <td>0.7857</td>\n",
       "      <td>squad</td>\n",
       "    </tr>\n",
       "    <tr>\n",
       "      <th>1296990</th>\n",
       "      <td>0</td>\n",
       "      <td>0</td>\n",
       "      <td>100.00</td>\n",
       "      <td>1</td>\n",
       "      <td>1</td>\n",
       "      <td>0</td>\n",
       "      <td>42</td>\n",
       "      <td>1</td>\n",
       "      <td>1</td>\n",
       "      <td>9.865</td>\n",
       "      <td>...</td>\n",
       "      <td>0</td>\n",
       "      <td>0.0</td>\n",
       "      <td>0</td>\n",
       "      <td>0.0</td>\n",
       "      <td>0</td>\n",
       "      <td>0</td>\n",
       "      <td>146.20</td>\n",
       "      <td>2</td>\n",
       "      <td>0.1875</td>\n",
       "      <td>duo</td>\n",
       "    </tr>\n",
       "    <tr>\n",
       "      <th>3369016</th>\n",
       "      <td>0</td>\n",
       "      <td>0</td>\n",
       "      <td>121.60</td>\n",
       "      <td>1</td>\n",
       "      <td>0</td>\n",
       "      <td>0</td>\n",
       "      <td>22</td>\n",
       "      <td>2</td>\n",
       "      <td>2</td>\n",
       "      <td>9.989</td>\n",
       "      <td>...</td>\n",
       "      <td>0</td>\n",
       "      <td>0.0</td>\n",
       "      <td>0</td>\n",
       "      <td>0.0</td>\n",
       "      <td>0</td>\n",
       "      <td>0</td>\n",
       "      <td>145.20</td>\n",
       "      <td>3</td>\n",
       "      <td>0.1429</td>\n",
       "      <td>duo</td>\n",
       "    </tr>\n",
       "    <tr>\n",
       "      <th>70941</th>\n",
       "      <td>0</td>\n",
       "      <td>0</td>\n",
       "      <td>0.00</td>\n",
       "      <td>0</td>\n",
       "      <td>0</td>\n",
       "      <td>0</td>\n",
       "      <td>92</td>\n",
       "      <td>0</td>\n",
       "      <td>0</td>\n",
       "      <td>0.000</td>\n",
       "      <td>...</td>\n",
       "      <td>0</td>\n",
       "      <td>0.0</td>\n",
       "      <td>0</td>\n",
       "      <td>0.0</td>\n",
       "      <td>0</td>\n",
       "      <td>0</td>\n",
       "      <td>0.00</td>\n",
       "      <td>0</td>\n",
       "      <td>0.0000</td>\n",
       "      <td>squad</td>\n",
       "    </tr>\n",
       "    <tr>\n",
       "      <th>3266551</th>\n",
       "      <td>0</td>\n",
       "      <td>1</td>\n",
       "      <td>153.80</td>\n",
       "      <td>0</td>\n",
       "      <td>0</td>\n",
       "      <td>1</td>\n",
       "      <td>39</td>\n",
       "      <td>1</td>\n",
       "      <td>1</td>\n",
       "      <td>7.740</td>\n",
       "      <td>...</td>\n",
       "      <td>0</td>\n",
       "      <td>0.0</td>\n",
       "      <td>0</td>\n",
       "      <td>0.0</td>\n",
       "      <td>0</td>\n",
       "      <td>0</td>\n",
       "      <td>1032.00</td>\n",
       "      <td>4</td>\n",
       "      <td>0.4479</td>\n",
       "      <td>solo</td>\n",
       "    </tr>\n",
       "  </tbody>\n",
       "</table>\n",
       "<p>444696 rows × 21 columns</p>\n",
       "</div>"
      ],
      "text/plain": [
       "         assists  boosts  damageDealt  DBNOs  headshotKills  heals  killPlace  \\\n",
       "121605         0       0         0.00      0              0      0         95   \n",
       "2588043        0       0       100.00      1              0      0         44   \n",
       "3410158        3       0       123.40      0              0      0         78   \n",
       "2072022        1       0         0.00      0              0      0         61   \n",
       "2956261        0       0        40.64      0              0      0         67   \n",
       "...          ...     ...          ...    ...            ...    ...        ...   \n",
       "427997         1       4       420.50      2              0      2         14   \n",
       "1296990        0       0       100.00      1              1      0         42   \n",
       "3369016        0       0       121.60      1              0      0         22   \n",
       "70941          0       0         0.00      0              0      0         92   \n",
       "3266551        0       1       153.80      0              0      1         39   \n",
       "\n",
       "         kills  killStreaks  longestKill  ...  revives  rideDistance  \\\n",
       "121605       0            0        0.000  ...        0           0.0   \n",
       "2588043      1            1        5.282  ...        0           0.0   \n",
       "3410158      0            0        0.000  ...        0           0.0   \n",
       "2072022      0            0        0.000  ...        0           0.0   \n",
       "2956261      0            0        0.000  ...        1           0.0   \n",
       "...        ...          ...          ...  ...      ...           ...   \n",
       "427997       2            1      218.300  ...        1        1981.0   \n",
       "1296990      1            1        9.865  ...        0           0.0   \n",
       "3369016      2            2        9.989  ...        0           0.0   \n",
       "70941        0            0        0.000  ...        0           0.0   \n",
       "3266551      1            1        7.740  ...        0           0.0   \n",
       "\n",
       "         roadKills  swimDistance  teamKills  vehicleDestroys  walkDistance  \\\n",
       "121605           0           0.0          0                0         36.96   \n",
       "2588043          0           0.0          0                0        180.40   \n",
       "3410158          0           0.0          0                0        158.40   \n",
       "2072022          0           0.0          0                0        646.30   \n",
       "2956261          0           0.0          0                0        146.50   \n",
       "...            ...           ...        ...              ...           ...   \n",
       "427997           0           0.0          0                0       2729.00   \n",
       "1296990          0           0.0          0                0        146.20   \n",
       "3369016          0           0.0          0                0        145.20   \n",
       "70941            0           0.0          0                0          0.00   \n",
       "3266551          0           0.0          0                0       1032.00   \n",
       "\n",
       "         weaponsAcquired  winPlacePerc  predicted  \n",
       "121605                 1        0.0208        duo  \n",
       "2588043                2        0.3125        duo  \n",
       "3410158                1        0.1481      squad  \n",
       "2072022                3        0.3846      squad  \n",
       "2956261                1        0.2444        duo  \n",
       "...                  ...           ...        ...  \n",
       "427997                 8        0.7857      squad  \n",
       "1296990                2        0.1875        duo  \n",
       "3369016                3        0.1429        duo  \n",
       "70941                  0        0.0000      squad  \n",
       "3266551                4        0.4479       solo  \n",
       "\n",
       "[444696 rows x 21 columns]"
      ]
     },
     "execution_count": 131,
     "metadata": {},
     "output_type": "execute_result"
    }
   ],
   "source": [
    "X_with_pred = x_valid.assign(predicted=output)\n",
    "X_with_pred"
   ]
  },
  {
   "cell_type": "code",
   "execution_count": 135,
   "metadata": {},
   "outputs": [
    {
     "name": "stdout",
     "output_type": "stream",
     "text": [
      "revives\n",
      "0    66867\n",
      "1        5\n",
      "Name: count, dtype: int64\n"
     ]
    }
   ],
   "source": [
    "print(X_with_pred[X_with_pred[\"predicted\"]==\"solo\"]['revives'].value_counts())"
   ]
  },
  {
   "cell_type": "code",
   "execution_count": 143,
   "metadata": {},
   "outputs": [
    {
     "name": "stdout",
     "output_type": "stream",
     "text": [
      "must not be solo count:\n",
      "3\n"
     ]
    }
   ],
   "source": [
    "count=0\n",
    "for i in range(len(output)):\n",
    "    if output[i]==\"solo\" and (x_test.iloc[i][\"DBNOs\"]!=0 or x_test.iloc[i][\"revives\"]!=0):\n",
    "       count+=1\n",
    "print(\"must not be solo count:\")\n",
    "print(count) "
   ]
  },
  {
   "cell_type": "code",
   "execution_count": 140,
   "metadata": {},
   "outputs": [
    {
     "name": "stdout",
     "output_type": "stream",
     "text": [
      "accuracy:0.8298841683213514\n",
      "f1 score:0.82900859113023\n"
     ]
    }
   ],
   "source": [
    "caculate_score(normal_tree, x_test, y_test)\n",
    "\n"
   ]
  },
  {
   "cell_type": "code",
   "execution_count": 124,
   "metadata": {},
   "outputs": [
    {
     "data": {
      "text/plain": [
       "False"
      ]
     },
     "execution_count": 124,
     "metadata": {},
     "output_type": "execute_result"
    }
   ],
   "source": [
    "x_valid.iloc[2][\"DBNOs\"]!=0"
   ]
  },
  {
   "cell_type": "code",
   "execution_count": null,
   "metadata": {},
   "outputs": [],
   "source": []
  },
  {
   "cell_type": "code",
   "execution_count": 126,
   "metadata": {},
   "outputs": [
    {
     "name": "stdout",
     "output_type": "stream",
     "text": [
      "Confusion Matrix with Labels:\n",
      "        squad    duo   solo  other\n",
      "squad  216288  19795   4156     15\n",
      "duo     25223  97658   8406      6\n",
      "solo     5127  12670  54306      6\n",
      "other     320    106      4    610\n"
     ]
    }
   ],
   "source": [
    "import numpy as np\n",
    "from sklearn.metrics import confusion_matrix\n",
    "\n",
    "# 假設多分類問題\n",
    "y_true = [2, 0, 2, 2, 0, 1, 1, 2, 0, 1]\n",
    "y_pred = [0, 0, 2, 2, 0, 2, 1, 2, 0, 2]\n",
    "\n",
    "# 顯式指定類別標籤\n",
    "labels = [\"squad\", \"duo\", \"solo\", \"other\"]\n",
    "cm = confusion_matrix(y_valid, output, labels=labels)\n",
    "\n",
    "cm_df = pd.DataFrame(cm, index=labels, columns=labels)\n",
    "\n",
    "print(\"Confusion Matrix with Labels:\")\n",
    "print(cm_df)"
   ]
  },
  {
   "cell_type": "code",
   "execution_count": 142,
   "metadata": {},
   "outputs": [
    {
     "data": {
      "image/png": "[encoded data removed]",
      "text/plain": [
       "<Figure size 800x600 with 2 Axes>"
      ]
     },
     "metadata": {},
     "output_type": "display_data"
    }
   ],
   "source": [
    "import numpy as np\n",
    "import pandas as pd\n",
    "from sklearn.metrics import confusion_matrix\n",
    "import seaborn as sns\n",
    "import matplotlib.pyplot as plt\n",
    "\n",
    "# 顯式指定類別標籤\n",
    "labels = [\"squad\", \"duo\", \"solo\", \"other\"]\n",
    "cm = confusion_matrix(y_test, output, labels=labels)  # 確保與類別索引對應\n",
    "\n",
    "# 創建 DataFrame\n",
    "cm_df = pd.DataFrame(cm, index=labels, columns=labels)\n",
    "\n",
    "# 視覺化混淆矩陣\n",
    "plt.figure(figsize=(8, 6))\n",
    "sns.heatmap(cm_df, annot=True, fmt='d', cmap='Blues', cbar=True)\n",
    "plt.title(\"Confusion Matrix\")\n",
    "plt.xlabel(\"Predicted Labels\")\n",
    "plt.ylabel(\"True Labels\")\n",
    "plt.show()"
   ]
  }
 ],
 "metadata": {
  "kernelspec": {
   "display_name": "Python 3",
   "language": "python",
   "name": "python3"
  },
  "language_info": {
   "codemirror_mode": {
    "name": "ipython",
    "version": 3
   },
   "file_extension": ".py",
   "mimetype": "text/x-python",
   "name": "python",
   "nbconvert_exporter": "python",
   "pygments_lexer": "ipython3",
   "version": "3.12.8"
  }
 },
 "nbformat": 4,
 "nbformat_minor": 2
}
